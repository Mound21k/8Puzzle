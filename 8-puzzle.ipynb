{
 "cells": [
  {
   "cell_type": "code",
   "execution_count": 1,
   "metadata": {},
   "outputs": [],
   "source": [
    "class Node:\n",
    "    def __init__(self, board):\n",
    "        self.board = board\n",
    "        self.children = []\n",
    "        self.parent = None\n",
    "        self.score = None "
   ]
  },
  {
   "cell_type": "code",
   "execution_count": 2,
   "metadata": {},
   "outputs": [],
   "source": [
    "class Puzzle:\n",
    "    def __init__(self, start_str, end_str):\n",
    "        self.start_str = start_str\n",
    "        self.end_str = end_str\n",
    "        self.visited_dict = dict()\n",
    "        self.unvisited_dict = dict()\n",
    "        self.visited = set()\n",
    "        self.unvisited = set()\n",
    "        self.root = None\n",
    "    def locate(self,_str):\n",
    "        x = _str.index(\"0\")//3\n",
    "        y = _str.index(\"0\")%3\n",
    "        return x,y\n",
    "    def moves(self, x,y):\n",
    "        moves_list = [\"UP\",\"DOWN\",\"LEFT\",\"RIGHT\"]\n",
    "        possibilities_x = [[\"DOWN\"],[\"DOWN\",\"UP\"],[\"UP\"]]\n",
    "        possibilities_y = [[\"RIGHT\"],[\"RIGHT\",\"LEFT\"],[\"LEFT\"]]\n",
    "        possible_directions = possibilities_x[x]+possibilities_y[y]\n",
    "        return possible_directions\n",
    "    def board_creator(self, board, moves):\n",
    "        boards = []\n",
    "        lst_rep =[i for i in board]\n",
    "        s = board.index(\"0\")\n",
    "        for move in moves:\n",
    "            if move==\"UP\":\n",
    "                d=s-3\n",
    "            elif move==\"DOWN\":\n",
    "                d=s+3\n",
    "            elif move==\"LEFT\":\n",
    "                d=s-1\n",
    "            else:\n",
    "                d=s+1\n",
    "            new_board = lst_rep.copy()\n",
    "            new_board[s], new_board[d] = new_board[d], new_board[s]\n",
    "            new_board = \"\".join(new_board)\n",
    "            boards.append(new_board)            \n",
    "        return boards\n",
    "    def generate_children(self, board):\n",
    "        x, y = self.locate(board)\n",
    "        moves = self.moves(x,y)\n",
    "        children = self.board_creator(board, moves)\n",
    "        return children\n",
    "    def score_cal(self, current, end):\n",
    "        score=0\n",
    "        for i in range(9):\n",
    "            x_s = i//3\n",
    "            y_s = i%3\n",
    "            e_i = end.index(current[i])\n",
    "            x_e = e_i//3\n",
    "            y_e = e_i%3\n",
    "            score += abs(x_s-x_e)+abs(y_s-y_e)\n",
    "        return score\n",
    "        \n",
    "    def solve(self):\n",
    "        self.root = Node(self.start_str)\n",
    "        self.root.score = self.score_cal(self.root.board, self.end_str)\n",
    "        current =self.root\n",
    "        if self.root.score!=0:\n",
    "            while True:\n",
    "                self.visited_dict[current.board]=current.score\n",
    "                self.visited.add(current)\n",
    "                if current.board in self.unvisited_dict:\n",
    "                    del self.unvisited_dict[current.board]\n",
    "                children = self.generate_children(current.board)\n",
    "                for child in children:\n",
    "                    if child not in self.visited_dict and child not in self.unvisited_dict:\n",
    "                        new_node = Node(child)\n",
    "                        new_node.score = self.score_cal(new_node.board, self.end_str)\n",
    "                        new_node.parent = current\n",
    "                        current.children.append(new_node)\n",
    "                        if new_node not in self.visited:\n",
    "                            self.unvisited_dict[child]=new_node.score\n",
    "                            self.unvisited.add(new_node)\n",
    "                _min = min(self.unvisited_dict.values())\n",
    "                min_board = \"\"\n",
    "                for i in self.unvisited_dict:\n",
    "                    if self.unvisited_dict[i]==_min:\n",
    "                        min_board = i\n",
    "                        break\n",
    "                for n in self.unvisited:\n",
    "                    if n.board==min_board:\n",
    "                        current = n\n",
    "                        break\n",
    "                self.unvisited.discard(current)\n",
    "                if current.score == 0:\n",
    "                    return current\n",
    "                print(self.visited_dict)\n",
    "        else:\n",
    "            print(\"The board you entered is not different from the end state\")"
   ]
  },
  {
   "cell_type": "code",
   "execution_count": 3,
   "metadata": {},
   "outputs": [
    {
     "name": "stdout",
     "output_type": "stream",
     "text": [
      "{'123406758': 4}\n"
     ]
    }
   ],
   "source": [
    "my_puzzle = Puzzle(\"123406758\",\"123456780\")\n",
    "last = my_puzzle.solve()"
   ]
  },
  {
   "cell_type": "code",
   "execution_count": 4,
   "metadata": {},
   "outputs": [
    {
     "name": "stdout",
     "output_type": "stream",
     "text": [
      "['123456780', '123456708']\n"
     ]
    }
   ],
   "source": [
    "path=[]\n",
    "while last.parent:\n",
    "    path.append(last.board)\n",
    "    last= last.parent\n",
    "print(path)"
   ]
  },
  {
   "cell_type": "code",
   "execution_count": null,
   "metadata": {},
   "outputs": [],
   "source": []
  }
 ],
 "metadata": {
  "kernelspec": {
   "display_name": "Python 3 (ipykernel)",
   "language": "python",
   "name": "python3"
  },
  "language_info": {
   "codemirror_mode": {
    "name": "ipython",
    "version": 3
   },
   "file_extension": ".py",
   "mimetype": "text/x-python",
   "name": "python",
   "nbconvert_exporter": "python",
   "pygments_lexer": "ipython3",
   "version": "3.9.7"
  }
 },
 "nbformat": 4,
 "nbformat_minor": 4
}
